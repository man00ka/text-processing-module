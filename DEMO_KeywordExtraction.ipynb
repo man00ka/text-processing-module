{
 "cells": [
  {
   "cell_type": "markdown",
   "id": "6ca9af0c-23ce-4da2-9026-b413d01fa1d8",
   "metadata": {
    "tags": []
   },
   "source": [
    "# DEMO Keyword Extraction"
   ]
  },
  {
   "cell_type": "code",
   "execution_count": 1,
   "id": "03231a35-57b4-4ce0-8eac-0f3e2befce1d",
   "metadata": {},
   "outputs": [],
   "source": [
    "from importlib import reload\n",
    "from TextProcessingModule.keyword_extraction import KWExtractor"
   ]
  },
  {
   "cell_type": "code",
   "execution_count": 2,
   "id": "18541a88-db60-46ba-bc74-c8d1a5020857",
   "metadata": {},
   "outputs": [],
   "source": [
    "GO_1984 = \"\"\"It was a bright cold day in April, \n",
    "and the clocks were striking thirteen.\n",
    "Winston Smith, his chin nuzzled into his \n",
    "breast in an effort to escape the vile \n",
    "wind, slipped quickly through the glass \n",
    "doors of Victory Mansions, though not\n",
    "quickly enough to prevent a swirl of gritty\n",
    "dust from entering along with him.\"\"\"\n"
   ]
  },
  {
   "cell_type": "code",
   "execution_count": 3,
   "id": "04f7394a-a88a-46ca-85ca-bce19409f053",
   "metadata": {},
   "outputs": [
    {
     "data": {
      "text/plain": [
       "[('bright cold day', 0.004905617333200241),\n",
       " ('day in April', 0.009932669052544495),\n",
       " ('striking thirteen', 0.01903331785574621),\n",
       " ('bright cold', 0.02821801233209774),\n",
       " ('cold day', 0.02821801233209774),\n",
       " ('clocks were striking', 0.02821801233209774),\n",
       " ('Victory Mansions', 0.04377416398913072),\n",
       " ('Winston Smith', 0.05825963520288142),\n",
       " ('April', 0.059368071122274546),\n",
       " ('doors of Victory', 0.10522033215143173),\n",
       " ('thirteen', 0.11274713397462127),\n",
       " ('vile wind', 0.14282143485562235),\n",
       " ('slipped quickly', 0.1618076947871303),\n",
       " ('bright', 0.16566112475742648),\n",
       " ('cold', 0.16566112475742648),\n",
       " ('day', 0.16566112475742648),\n",
       " ('clocks', 0.16566112475742648),\n",
       " ('striking', 0.16566112475742648),\n",
       " ('Smith', 0.1797919410992793),\n",
       " ('Mansions', 0.1797919410992793)]"
      ]
     },
     "execution_count": 3,
     "metadata": {},
     "output_type": "execute_result"
    }
   ],
   "source": [
    "text = GO_1984\n",
    "# Create the keyword extractor with standard\n",
    "# set of parameters. You could specifiy 'top_n'\n",
    "# to change the number of keywords returned.\n",
    "kwextractor = KWExtractor()\n",
    "\n",
    "# Extract the keywords\n",
    "kwextractor.extract(text)"
   ]
  },
  {
   "cell_type": "markdown",
   "id": "9a53ba7b-12c2-4b28-b274-b26a78d57eb9",
   "metadata": {},
   "source": [
    "### Tag Keywoards"
   ]
  },
  {
   "cell_type": "code",
   "execution_count": 4,
   "id": "5e852f29-2d52-404b-8da6-84db8b455f30",
   "metadata": {},
   "outputs": [
    {
     "data": {
      "text/plain": [
       "'It was a <kw>bright cold day</kw> in <kw>April</kw>,  and the <kw>clocks</kw> were <kw>striking thirteen</kw>. <kw>Winston Smith</kw>, his chin nuzzled into his  breast in an effort to escape the vile  wind, <kw>slipped quickly</kw> through the glass  doors of <kw>Victory Mansions</kw>, though not quickly enough to prevent a swirl of gritty dust from entering along with him.'"
      ]
     },
     "execution_count": 4,
     "metadata": {},
     "output_type": "execute_result"
    }
   ],
   "source": [
    "# Mark keywords with a tag. Specify 'tag' to\n",
    "# use your own tag. Default = 'kw'\n",
    "kwextractor.tag(text)"
   ]
  },
  {
   "cell_type": "markdown",
   "id": "5b266520-c94e-474f-bd66-5b9b373e7c82",
   "metadata": {},
   "source": [
    "### HTML Highlighting"
   ]
  },
  {
   "cell_type": "code",
   "execution_count": 5,
   "id": "c7c47266-3963-4bd1-8175-28d32599c264",
   "metadata": {},
   "outputs": [
    {
     "data": {
      "text/plain": [
       "'It was a <span style=\"color:#217FF8\">bright cold day</span> in <span style=\"color:#217FF8\">April</span>,  and the <span style=\"color:#217FF8\">clocks</span> were <span style=\"color:#217FF8\">striking thirteen</span>. <span style=\"color:#217FF8\">Winston Smith</span>, his chin nuzzled into his  breast in an effort to escape the vile  wind, <span style=\"color:#217FF8\">slipped quickly</span> through the glass  doors of <span style=\"color:#217FF8\">Victory Mansions</span>, though not quickly enough to prevent a swirl of gritty dust from entering along with him.'"
      ]
     },
     "execution_count": 5,
     "metadata": {},
     "output_type": "execute_result"
    }
   ],
   "source": [
    "# Returns a formatted string with keywords sourrounded\n",
    "# by html color style.\n",
    "kwextractor.highlight(text)"
   ]
  },
  {
   "cell_type": "markdown",
   "id": "a587fad8-b547-4fbf-a06e-9e521e391015",
   "metadata": {
    "tags": []
   },
   "source": [
    "#### The HTML color style can be displayed in jupyter notebooks like so:"
   ]
  },
  {
   "cell_type": "code",
   "execution_count": 6,
   "id": "a0be7073-8a0a-4b48-95eb-b0edd9523a1a",
   "metadata": {},
   "outputs": [
    {
     "data": {
      "text/html": [
       "It was a <span style=\"color:#217FF8\">bright cold day</span> in <span style=\"color:#217FF8\">April</span>,  and the <span style=\"color:#217FF8\">clocks</span> were <span style=\"color:#217FF8\">striking thirteen</span>. <span style=\"color:#217FF8\">Winston Smith</span>, his chin nuzzled into his  breast in an effort to escape the vile  wind, <span style=\"color:#217FF8\">slipped quickly</span> through the glass  doors of <span style=\"color:#217FF8\">Victory Mansions</span>, though not quickly enough to prevent a swirl of gritty dust from entering along with him."
      ],
      "text/plain": [
       "<IPython.core.display.HTML object>"
      ]
     },
     "metadata": {},
     "output_type": "display_data"
    }
   ],
   "source": [
    "# html texts can be highlighted in notebooks like so:\n",
    "from IPython.display import display, HTML\n",
    "\n",
    "display(HTML(kwextractor.highlight(text)))"
   ]
  },
  {
   "cell_type": "markdown",
   "id": "755b4102-0131-4ed4-a97a-fd8548b98ef9",
   "metadata": {},
   "source": [
    "---"
   ]
  },
  {
   "cell_type": "code",
   "execution_count": null,
   "id": "12255d13-a067-4987-8e1b-b5a24421f8e4",
   "metadata": {},
   "outputs": [],
   "source": []
  },
  {
   "cell_type": "code",
   "execution_count": null,
   "id": "af39031a-3fe5-4ecd-bedc-cd69db648775",
   "metadata": {},
   "outputs": [],
   "source": []
  },
  {
   "cell_type": "code",
   "execution_count": null,
   "id": "44a9f71e-fe4d-4e75-b6ef-0bd2f43ceb1f",
   "metadata": {},
   "outputs": [],
   "source": []
  }
 ],
 "metadata": {
  "kernelspec": {
   "display_name": "Python 3 (ipykernel)",
   "language": "python",
   "name": "python3"
  },
  "language_info": {
   "codemirror_mode": {
    "name": "ipython",
    "version": 3
   },
   "file_extension": ".py",
   "mimetype": "text/x-python",
   "name": "python",
   "nbconvert_exporter": "python",
   "pygments_lexer": "ipython3",
   "version": "3.11.7"
  }
 },
 "nbformat": 4,
 "nbformat_minor": 5
}
